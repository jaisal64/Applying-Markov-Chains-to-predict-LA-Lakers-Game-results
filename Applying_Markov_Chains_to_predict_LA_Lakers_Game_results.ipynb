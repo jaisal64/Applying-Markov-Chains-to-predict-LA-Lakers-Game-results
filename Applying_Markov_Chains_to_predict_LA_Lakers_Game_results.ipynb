{
  "cells": [
    {
      "cell_type": "markdown",
      "id": "7425342c-c2ac-4554-8dab-4b291a5f0490",
      "metadata": {
        "id": "7425342c-c2ac-4554-8dab-4b291a5f0490"
      },
      "source": [
        "Applying 1st and Higher Order Markov Chains\n",
        "## LA Lakers Game Stats"
      ]
    },
    {
      "cell_type": "markdown",
      "id": "b206d4b1-76c6-4f42-9a7f-e838f95f87cd",
      "metadata": {
        "id": "b206d4b1-76c6-4f42-9a7f-e838f95f87cd"
      },
      "source": [
        "Name:\n",
        "Date:\n"
      ]
    },
    {
      "cell_type": "code",
      "execution_count": null,
      "id": "1796ed5b-65ec-42db-bd48-cee39bfbb158",
      "metadata": {
        "id": "1796ed5b-65ec-42db-bd48-cee39bfbb158"
      },
      "outputs": [],
      "source": [
        "import pandas as pd\n",
        "import numpy as np\n",
        "import seaborn as sns\n",
        "import matplotlib.pyplot as plt\n",
        "import random"
      ]
    },
    {
      "cell_type": "markdown",
      "id": "73e3d645-bf45-40c0-8dec-0f3aa8bd3b82",
      "metadata": {
        "id": "73e3d645-bf45-40c0-8dec-0f3aa8bd3b82"
      },
      "source": [
        "### function needed"
      ]
    },
    {
      "cell_type": "code",
      "execution_count": null,
      "id": "79c1e02c-ad7f-40aa-98cf-cf9a9ca1325d",
      "metadata": {
        "id": "79c1e02c-ad7f-40aa-98cf-cf9a9ca1325d"
      },
      "outputs": [],
      "source": [
        "# function to pick between two states, given their mutual probabilities\n",
        "\n",
        "def pick_state(var_a, prob_a, var_b, prob_b):\n",
        "\n",
        "    # Validate input probabilities\n",
        "    if not (0 <= prob_a <= 1 and 0 <= prob_b <= 1):\n",
        "        raise ValueError(\"Input probabilities must be between 0 and 1\")\n",
        "\n",
        "    # Calculate the cumulative probabilities\n",
        "    cum_prob_a = prob_a\n",
        "    cum_prob_b = prob_a + prob_b\n",
        "\n",
        "    # Generate a random number between 0 and 1\n",
        "    rand = random.random()\n",
        "\n",
        "    # Determine which character to pick based on the random number\n",
        "    if rand < cum_prob_a:\n",
        "        return var_a\n",
        "    elif rand < cum_prob_b:\n",
        "        return var_b\n",
        "    else:\n",
        "        raise Exception(\"Unexpected error: random number outside [0, 1]\")\n"
      ]
    },
    {
      "cell_type": "code",
      "execution_count": null,
      "id": "0dea8365-c9fd-4ea7-8d41-c1705d8e1fa3",
      "metadata": {
        "colab": {
          "base_uri": "https://localhost:8080/",
          "height": 37
        },
        "id": "0dea8365-c9fd-4ea7-8d41-c1705d8e1fa3",
        "outputId": "85e19068-adaf-4ccb-e0c5-11020887fe2e"
      },
      "outputs": [
        {
          "output_type": "execute_result",
          "data": {
            "text/plain": [
              "'A'"
            ],
            "application/vnd.google.colaboratory.intrinsic+json": {
              "type": "string"
            }
          },
          "metadata": {},
          "execution_count": 3
        }
      ],
      "source": [
        "# test function with sample input values. Run this cell multiple times, you should see both A and B appearing\n",
        "\n",
        "pick_state('A', 0.3, 'B', 0.7)"
      ]
    },
    {
      "cell_type": "code",
      "execution_count": null,
      "id": "011fb656-b157-4b07-bdfa-5bb6e2dfd1eb",
      "metadata": {
        "id": "011fb656-b157-4b07-bdfa-5bb6e2dfd1eb"
      },
      "outputs": [],
      "source": [
        "# function to get all sequences (even overlapping) of length n in a given string named 'sequence'\n",
        "\n",
        "def get_n_letter_sequences(sequence, n):\n",
        "\n",
        "    return [sequence[i:i+n] for i in range(len(sequence) - n + 1)]\n"
      ]
    },
    {
      "cell_type": "code",
      "execution_count": null,
      "id": "23f9411d-1d93-4e26-a298-5c9b2451dae3",
      "metadata": {
        "colab": {
          "base_uri": "https://localhost:8080/"
        },
        "id": "23f9411d-1d93-4e26-a298-5c9b2451dae3",
        "outputId": "aa4a9edb-9a6c-473c-db40-17f42b592652"
      },
      "outputs": [
        {
          "output_type": "execute_result",
          "data": {
            "text/plain": [
              "['ABB', 'BBB', 'BBB', 'BBA', 'BAB', 'ABA', 'BAB', 'ABA']"
            ]
          },
          "metadata": {},
          "execution_count": 5
        }
      ],
      "source": [
        "# test function with sample string\n",
        "\n",
        "get_n_letter_sequences('ABBBBABABA', 3)"
      ]
    },
    {
      "cell_type": "markdown",
      "id": "4b8a5c08-544f-4020-9668-6fe0c3274bc6",
      "metadata": {
        "id": "4b8a5c08-544f-4020-9668-6fe0c3274bc6"
      },
      "source": [
        "## read data into dataframe"
      ]
    },
    {
      "cell_type": "code",
      "execution_count": null,
      "id": "7218d9ea-25a7-4fe2-b71d-ad0ed57d9168",
      "metadata": {
        "id": "7218d9ea-25a7-4fe2-b71d-ad0ed57d9168"
      },
      "outputs": [],
      "source": [
        "# df_LAL.to_csv('LALakers_21-23.csv')\n"
      ]
    },
    {
      "cell_type": "code",
      "execution_count": null,
      "id": "f8b6610b-3449-4a7a-bcd4-41bd470f4094",
      "metadata": {
        "id": "f8b6610b-3449-4a7a-bcd4-41bd470f4094"
      },
      "outputs": [],
      "source": [
        "df_LAL = pd.read_csv('LALakers_21-23.csv')\n",
        "# df_LAL"
      ]
    },
    {
      "cell_type": "markdown",
      "id": "997bfe04-a81d-486f-a7bc-c7d40722ba18",
      "metadata": {
        "id": "997bfe04-a81d-486f-a7bc-c7d40722ba18"
      },
      "source": [
        "## 1st order Markov Chain"
      ]
    },
    {
      "cell_type": "markdown",
      "id": "9d9d16c6-7114-45bf-bdc1-ae3f6e9a8b3e",
      "metadata": {
        "id": "9d9d16c6-7114-45bf-bdc1-ae3f6e9a8b3e"
      },
      "source": [
        "### training and test data"
      ]
    },
    {
      "cell_type": "code",
      "execution_count": null,
      "id": "662b4a08-d492-47fc-9d86-4de7a7b9428c",
      "metadata": {
        "colab": {
          "base_uri": "https://localhost:8080/",
          "height": 37
        },
        "id": "662b4a08-d492-47fc-9d86-4de7a7b9428c",
        "outputId": "33527d4d-596e-47a7-84a6-ac58fe423f6f"
      },
      "outputs": [
        {
          "output_type": "execute_result",
          "data": {
            "text/plain": [
              "'LLWWLWWWLLWWLWLLLWLWLWWLWLWWWLLLLLWLWWWW'"
            ],
            "application/vnd.google.colaboratory.intrinsic+json": {
              "type": "string"
            }
          },
          "metadata": {},
          "execution_count": 7
        }
      ],
      "source": [
        "# train only on 2021-22 first half\n",
        "\n",
        "seq_train = ''.join(df_LAL.loc[df_LAL.season=='21-22'][:40]['result'].values)\n",
        "seq_train"
      ]
    },
    {
      "cell_type": "code",
      "execution_count": null,
      "id": "0ac34f60-6f41-4d13-b778-e7d4659087a8",
      "metadata": {
        "colab": {
          "base_uri": "https://localhost:8080/"
        },
        "id": "0ac34f60-6f41-4d13-b778-e7d4659087a8",
        "outputId": "2892b4db-350f-4c5c-91f0-482051d654fa"
      },
      "outputs": [
        {
          "output_type": "execute_result",
          "data": {
            "text/plain": [
              "array(['L', 'L', 'L', 'W', 'L', 'W', 'L', 'W', 'L', 'L', 'L', 'W', 'L',\n",
              "       'W', 'L', 'L', 'L', 'W', 'L', 'L', 'L', 'L', 'W', 'L', 'L', 'W',\n",
              "       'L', 'L', 'L', 'W', 'L', 'W', 'L', 'L', 'L', 'L', 'L', 'L', 'L',\n",
              "       'L', 'W', 'W'], dtype=object)"
            ]
          },
          "metadata": {},
          "execution_count": 8
        }
      ],
      "source": [
        "# get test data - second half of 21-22 season\n",
        "\n",
        "seq_test = df_LAL.loc[df_LAL.season=='21-22'][40:]['result'].values\n",
        "seq_test"
      ]
    },
    {
      "cell_type": "markdown",
      "id": "8f9340d7-4174-4041-bc96-bcf11f2a858b",
      "metadata": {
        "id": "8f9340d7-4174-4041-bc96-bcf11f2a858b"
      },
      "source": [
        "### generate transition matrix of order-1 Markov"
      ]
    },
    {
      "cell_type": "code",
      "execution_count": null,
      "id": "23859ba7-1ff0-4343-a9c9-08c756faff94",
      "metadata": {
        "colab": {
          "base_uri": "https://localhost:8080/"
        },
        "id": "23859ba7-1ff0-4343-a9c9-08c756faff94",
        "outputId": "ff3773f3-1a4d-4578-b9b1-e73c79ee910c"
      },
      "outputs": [
        {
          "output_type": "stream",
          "name": "stdout",
          "text": [
            "seq-o1 \tseq-o2 \tcount \tprob_of_seq-o2\n",
            "L \t LL \t 8 \t 0.421\n",
            "L \t LW \t 11 \t 0.579\n",
            "W \t WL \t 10 \t 0.5\n",
            "W \t WW \t 10 \t 0.5\n",
            "\n",
            "Transition Matrix = \n",
            "[[0.42105263 0.5       ]\n",
            " [0.57894737 0.5       ]]\n"
          ]
        }
      ],
      "source": [
        "\n",
        "# get all sequences of length 1 in the training data\n",
        "seq_1_list        = np.array(get_n_letter_sequences(seq_train, 1))\n",
        "unique_seq_1_list = np.sort(np.unique(seq_1_list))\n",
        "\n",
        "# get all sequences of length 2 in the training data\n",
        "seq_1plus1_list        = np.array(get_n_letter_sequences(seq_train, 2))\n",
        "unique_seq_1plus1_list = np.sort(np.unique(seq_1plus1_list))\n",
        "\n",
        "# create an empty matrix that will eventually hold the transition probabilities\n",
        "arr_tr_mat = np.zeros((2, unique_seq_1_list.shape[0]))\n",
        "\n",
        "print ('seq-o' + str(1), '\\tseq-o' + str(1+1), '\\tcount', '\\tprob_of_seq-o' + str(1+1))\n",
        "\n",
        "for i, seq_n in enumerate(unique_seq_1_list):\n",
        "\n",
        "    # possible next states appended to seq_n. There are only two possibilities\n",
        "    seq_1plus1_0 = seq_n + 'L'\n",
        "    seq_1plus1_1 = seq_n + 'W'\n",
        "\n",
        "    # Count all occurrences of the above sequences in all the n+1 length sequences\n",
        "    count_seq_1plus1_0 = (seq_1plus1_list == seq_1plus1_0).sum()\n",
        "    count_seq_1plus1_1 = (seq_1plus1_list == seq_1plus1_1).sum()\n",
        "\n",
        "    # get ratios of occurrences of each n+1 length sequence\n",
        "    prob_seq_1plus1_0 = count_seq_1plus1_0/(count_seq_1plus1_0+count_seq_1plus1_1)\n",
        "    prob_seq_1plus1_1 = count_seq_1plus1_1/(count_seq_1plus1_0+count_seq_1plus1_1)\n",
        "\n",
        "    # to see the output\n",
        "    print (seq_n, '\\t', seq_1plus1_0, '\\t', count_seq_1plus1_0, '\\t', round(prob_seq_1plus1_0, 3))\n",
        "    print (seq_n, '\\t', seq_1plus1_1, '\\t', count_seq_1plus1_1, '\\t', round(prob_seq_1plus1_1, 3))\n",
        "\n",
        "    arr_tr_mat[0][i] = prob_seq_1plus1_0\n",
        "    arr_tr_mat[1][i] = prob_seq_1plus1_1\n",
        "\n",
        "\n",
        "print ('\\nTransition Matrix = ')\n",
        "print (arr_tr_mat)"
      ]
    },
    {
      "cell_type": "markdown",
      "id": "a25343f9-bb4c-4fea-b0c8-3ccc424be40f",
      "metadata": {
        "id": "a25343f9-bb4c-4fea-b0c8-3ccc424be40f"
      },
      "source": [
        "### generate predictions and accuracy score for a single stretch"
      ]
    },
    {
      "cell_type": "code",
      "execution_count": null,
      "id": "3c63bc10-0572-4ab5-ae4a-158a3abc88c0",
      "metadata": {
        "colab": {
          "base_uri": "https://localhost:8080/"
        },
        "id": "3c63bc10-0572-4ab5-ae4a-158a3abc88c0",
        "outputId": "aa8b9507-3319-413c-e5d0-1c489817230f"
      },
      "outputs": [
        {
          "output_type": "stream",
          "name": "stdout",
          "text": [
            "starting state sequence: W\n",
            "\n",
            ">> forecast of 42 states\n",
            "['W', 'L', 'L', 'W', 'L', 'W', 'W', 'W', 'L', 'L', 'W', 'W', 'L', 'L', 'W', 'L', 'L', 'L', 'W', 'L', 'W', 'L', 'L', 'W', 'W', 'W', 'W', 'W', 'L', 'L', 'W', 'L', 'L', 'L', 'W', 'L', 'W', 'W', 'W', 'W', 'W', 'W']\n",
            "accuracy rate:  0.5\n"
          ]
        }
      ],
      "source": [
        "# generate predictions and accuracy score\n",
        "\n",
        "# empty array to hold predictions\n",
        "predictions = []\n",
        "\n",
        "# last known seq-n state\n",
        "seq_start = seq_train[-1:]\n",
        "print ('starting state sequence:', seq_start)\n",
        "\n",
        "# make N forward predictions. make it the same length as the test data of known outcomes\n",
        "N = len(seq_test)\n",
        "\n",
        "for i in range (0, N):\n",
        "\n",
        "    # define the state vector such that there is a '1' corresponding to the value of the starting sequence\n",
        "    # the '1' should be placed in the row number corresponding to the column number of the starting sequence in the transition matrix\n",
        "    # (or unique_seq_1plus1_list)\n",
        "    state_start = np.where(unique_seq_1_list == seq_start, 1, 0)\n",
        "\n",
        "    # calculate the probabilities of the next state\n",
        "    state_next_probs = arr_tr_mat @ state_start\n",
        "\n",
        "    # based on the probabilities, pick a state\n",
        "    state_next = pick_state('L', state_next_probs[0], 'W', state_next_probs[1])\n",
        "    # print ('predicted state next:', state_next, 'prob(L)=',round(state_next_probs[0], 2))\n",
        "\n",
        "    # the next sequence will now include the forecasted state\n",
        "    # add next state to the current start state, then take only the last n-state sequence to be the next start state\n",
        "    seq_start = (seq_start + state_next)[-1:]\n",
        "\n",
        "    # print ('next starting state sequence:', seq_start)\n",
        "    predictions.append(state_next)\n",
        "\n",
        "print ('\\n>> forecast of ' + str(len(seq_test)) + ' states')\n",
        "print (predictions)\n",
        "\n",
        "# make a new dataframe holding the actual known outcomes (seq_test) and the predictions.\n",
        "df_validation = pd.DataFrame({'actual': seq_test, 'predicted': np.array(predictions)})\n",
        "\n",
        "# get accuracy of individual predictions\n",
        "acc = df_validation.loc[df_validation.actual==df_validation.predicted].shape[0]/df_validation.shape[0]\n",
        "\n",
        "print ('accuracy rate: ', round(acc, 3))"
      ]
    },
    {
      "cell_type": "markdown",
      "id": "44491c24-88f7-4173-8fca-21567c339337",
      "metadata": {
        "id": "44491c24-88f7-4173-8fca-21567c339337"
      },
      "source": []
    },
    {
      "cell_type": "code",
      "execution_count": null,
      "id": "9d81631d",
      "metadata": {
        "colab": {
          "base_uri": "https://localhost:8080/"
        },
        "id": "9d81631d",
        "outputId": "c30d949f-aae7-4ca7-aea3-14ba284654bc"
      },
      "outputs": [
        {
          "output_type": "stream",
          "name": "stdout",
          "text": [
            "[[0.10526316 0.10526316 0.10526316 0.10526316]\n",
            " [0.13157895 0.15789474 0.13157895 0.15789474]\n",
            " [0.07894737 0.18421053 0.07894737 0.18421053]\n",
            " [0.13157895 0.10526316 0.13157895 0.10526316]]\n"
          ]
        }
      ],
      "source": [
        "# Define a function to get the transition matrix for a given order\n",
        "def get_transition_matrix_order_n(training_sequence, order):\n",
        "    # Get all sequences of length 'order' in the training data\n",
        "    seq_n_list = np.array(get_n_letter_sequences(training_sequence, order))\n",
        "    unique_seq_n_list = np.sort(np.unique(seq_n_list))\n",
        "\n",
        "    # Get all sequences of length 'order + 1' in the training data\n",
        "    seq_n_plus_1_list = np.array(get_n_letter_sequences(training_sequence, order + 1))\n",
        "    unique_seq_n_plus_1_list = np.sort(np.unique(seq_n_plus_1_list))\n",
        "\n",
        "    # Create an empty matrix to hold the transition probabilities\n",
        "    arr_tr_mat = np.zeros((len(unique_seq_n_list), unique_seq_n_list.shape[0]))\n",
        "\n",
        "    for i, seq_n in enumerate(unique_seq_n_list):\n",
        "        for j, next_state in enumerate(unique_seq_n_list):\n",
        "            # Append the next state to the current sequence\n",
        "            seq_n_plus_1 = seq_n + next_state[order - 1]\n",
        "\n",
        "            # Count occurrences of the next state sequence\n",
        "            count_next_state = (seq_n_plus_1_list == seq_n_plus_1).sum()\n",
        "\n",
        "            # Calculate the probability of the next state\n",
        "            prob_next_state = count_next_state / len(seq_n_plus_1_list)\n",
        "\n",
        "            arr_tr_mat[i][j] = prob_next_state\n",
        "\n",
        "    return arr_tr_mat\n",
        "\n",
        "# Test the function\n",
        "transition_matrix_order_2 = get_transition_matrix_order_n(seq_train, 2)\n",
        "print(transition_matrix_order_2)\n"
      ]
    },
    {
      "cell_type": "code",
      "execution_count": null,
      "id": "4ac54977-1b5c-4760-a930-94570075d171",
      "metadata": {
        "colab": {
          "base_uri": "https://localhost:8080/"
        },
        "id": "4ac54977-1b5c-4760-a930-94570075d171",
        "outputId": "a1311bf9-1c6c-471a-93bc-95dc3f667f28"
      },
      "outputs": [
        {
          "output_type": "stream",
          "name": "stdout",
          "text": [
            "Prediction Accuracy for 2nd Order Markov Chain: 0.4523809523809524\n"
          ]
        }
      ],
      "source": [
        "import numpy as np\n",
        "import pandas as pd\n",
        "import random\n",
        "\n",
        "def get_transition_matrix_order_n(training_sequence, order):\n",
        "    sequences = [training_sequence[i:i+order+1] for i in range(len(training_sequence)-order)]\n",
        "    unique_sequences = list(set(sequences))\n",
        "\n",
        "    matrix = {}\n",
        "\n",
        "    for seq in unique_sequences:\n",
        "        if seq[:order] not in matrix:\n",
        "            matrix[seq[:order]] = {'W': 0, 'L': 0}\n",
        "        matrix[seq[:order]][seq[-1]] += 1\n",
        "\n",
        "    for k, v in matrix.items():\n",
        "        total = sum(v.values())\n",
        "        matrix[k] = {key: value/total for key, value in v.items()}\n",
        "\n",
        "    return matrix\n",
        "\n",
        "def get_prediction_accuracy(training_sequence, test_sequence, order, transition_matrix):\n",
        "    correct_predictions = 0\n",
        "\n",
        "    for i in range(len(test_sequence)):\n",
        "        if i == 0:\n",
        "            current_sequence = training_sequence[-order:]\n",
        "        else:\n",
        "            current_sequence = \"\".join(test_sequence[i-1:i+order-1])\n",
        "\n",
        "        next_state_probs = transition_matrix.get(current_sequence, {'W': 0.5, 'L': 0.5})\n",
        "        predicted_state = pick_state('W', next_state_probs['W'], 'L', next_state_probs['L'])\n",
        "\n",
        "        if predicted_state == test_sequence[i]:\n",
        "            correct_predictions += 1\n",
        "\n",
        "    return correct_predictions / len(test_sequence)\n",
        "\n",
        "\n",
        "# Load your data\n",
        "# df_LAL = pd.read_csv('LALakers_21-23.csv')\n",
        "\n",
        "# Training and testing sequences\n",
        "seq_train = ''.join(df_LAL.loc[df_LAL.season=='21-22'][:40]['result'].values)\n",
        "seq_test = df_LAL.loc[df_LAL.season=='21-22'][40:]['result'].values\n",
        "\n",
        "# Getting the transition matrix of 2nd order\n",
        "transition_matrix_order_2 = get_transition_matrix_order_n(seq_train, 2)\n",
        "\n",
        "# Getting the prediction accuracy\n",
        "accuracy_order_2 = get_prediction_accuracy(seq_train, seq_test, 2, transition_matrix_order_2)\n",
        "print(f\"Prediction Accuracy for 2nd Order Markov Chain: {accuracy_order_2}\")\n",
        "\n"
      ]
    },
    {
      "cell_type": "code",
      "execution_count": null,
      "id": "91af014b-59a1-49ae-9344-64cf89943747",
      "metadata": {
        "id": "91af014b-59a1-49ae-9344-64cf89943747"
      },
      "outputs": [],
      "source": [
        "import numpy as np\n",
        "\n",
        "def get_prediction_accuracy(training_sequence, test_sequence, order, transition_matrix):\n",
        "    \"\"\"\n",
        "    Calculates the prediction accuracy of a Markov chain.\n",
        "\n",
        "    Parameters:\n",
        "    - training_sequence: The sequence used for training the model\n",
        "    - test_sequence: The sequence used for testing the model\n",
        "    - order: The order of the Markov chain\n",
        "    - transition_matrix: The transition matrix used for making predictions\n",
        "\n",
        "    Returns:\n",
        "    - Accuracy of the predictions made by the model\n",
        "    \"\"\"\n",
        "\n",
        "    # Initialize a counter to keep track of correct predictions\n",
        "    correct_predictions = 0\n",
        "\n",
        "    # Iterate over each element in the test sequence\n",
        "    for i in range(len(test_sequence)):\n",
        "\n",
        "        # Determine the current sequence for prediction\n",
        "        # If it is the first element, use the end of the training sequence\n",
        "        if i == 0:\n",
        "            current_sequence = training_sequence[-order:]\n",
        "        else:\n",
        "            # Otherwise, use the last 'order' results from the test sequence\n",
        "            current_sequence = test_sequence[i-order:i]\n",
        "\n",
        "        # Convert the current sequence to a string to use as a key in the transition matrix\n",
        "        current_sequence_str = \"\".join(current_sequence)\n",
        "\n",
        "        # Get the probabilities of the next state from the transition matrix\n",
        "        # If the current sequence is not in the matrix, use a default 50-50 probability\n",
        "        next_state_probs = transition_matrix.get(current_sequence_str, {'W': 0.5, 'L': 0.5})\n",
        "\n",
        "        # Make a prediction based on the probabilities\n",
        "        predicted_state = pick_state('W', next_state_probs['W'], 'L', next_state_probs['L'])\n",
        "\n",
        "        # Check if the prediction matches the actual result and increment the counter if it does\n",
        "        if predicted_state == test_sequence[i]:\n",
        "            correct_predictions += 1\n",
        "\n",
        "    # Calculate and return the accuracy as the proportion of correct predictions\n",
        "    return correct_predictions / len(test_sequence)\n",
        "\n"
      ]
    },
    {
      "cell_type": "code",
      "source": [
        "# Assume that seq_train and seq_test are your training and testing sequences, respectively\n",
        "\n",
        "# Generate the transition matrix, assume get_transition_matrix_order_n is your function\n",
        "transition_matrix_order_2 = get_transition_matrix_order_n(seq_train, 2)\n",
        "\n",
        "# Call the get_prediction_accuracy function to get the accuracy\n",
        "accuracy = get_prediction_accuracy(seq_train, seq_test, 2, transition_matrix_order_2)\n",
        "\n",
        "# Print the accuracy\n",
        "print(f\"Prediction Accuracy: {accuracy}\")\n"
      ],
      "metadata": {
        "colab": {
          "base_uri": "https://localhost:8080/"
        },
        "id": "0fgQ2hGWhRwI",
        "outputId": "e57b5600-7fcd-4b83-a8c2-5e8c3136cc31"
      },
      "id": "0fgQ2hGWhRwI",
      "execution_count": null,
      "outputs": [
        {
          "output_type": "stream",
          "name": "stdout",
          "text": [
            "Prediction Accuracy: 0.5952380952380952\n"
          ]
        }
      ]
    },
    {
      "cell_type": "code",
      "source": [
        "import numpy as np\n",
        "\n",
        "# Number of simulations to perform\n",
        "num_simulations = 1000\n",
        "\n",
        "# Maximum order to consider for the Markov chain models\n",
        "max_order = 5\n",
        "\n",
        "# A list to store the results (order and accuracy)\n",
        "results = []\n",
        "\n",
        "# Loop through each simulation\n",
        "for sim in range(num_simulations):\n",
        "    # Loop through each order from 1 to max_order\n",
        "    for order in range(1, max_order+1):\n",
        "        # Generate the transition matrix for the current order\n",
        "        transition_matrix = get_transition_matrix_order_n(seq_train, order)\n",
        "\n",
        "        # Get the prediction accuracy for the current order\n",
        "        accuracy = get_prediction_accuracy(seq_train, seq_test, order, transition_matrix)\n",
        "\n",
        "        # Store the order and accuracy in the results list\n",
        "        results.append({\"Simulation\": sim+1, \"Order\": order, \"Accuracy\": accuracy})\n",
        "\n",
        "# Convert the results to a pandas DataFrame if you want to analyze or export them\n",
        "import pandas as pd\n",
        "df_results = pd.DataFrame(results)\n",
        "\n",
        "# You can now analyze or export the results stored in df_results\n",
        "print(df_results)\n"
      ],
      "metadata": {
        "colab": {
          "base_uri": "https://localhost:8080/"
        },
        "id": "ZX-NMzLXi7ua",
        "outputId": "3ff19b15-c999-4bfd-d330-62c89a870650"
      },
      "id": "ZX-NMzLXi7ua",
      "execution_count": null,
      "outputs": [
        {
          "output_type": "stream",
          "name": "stdout",
          "text": [
            "      Simulation  Order  Accuracy\n",
            "0              1      1  0.404762\n",
            "1              1      2  0.428571\n",
            "2              1      3  0.357143\n",
            "3              1      4  0.619048\n",
            "4              1      5  0.571429\n",
            "...          ...    ...       ...\n",
            "4995        1000      1  0.500000\n",
            "4996        1000      2  0.476190\n",
            "4997        1000      3  0.690476\n",
            "4998        1000      4  0.642857\n",
            "4999        1000      5  0.523810\n",
            "\n",
            "[5000 rows x 3 columns]\n"
          ]
        }
      ]
    },
    {
      "cell_type": "code",
      "source": [
        "import matplotlib.pyplot as plt\n",
        "import seaborn as sns\n",
        "\n",
        "# Calculate mean accuracy for each order\n",
        "mean_accuracies = df_results.groupby('Order')['Accuracy'].mean()\n",
        "\n",
        "print(\"Mean Accuracies by Order:\")\n",
        "print(mean_accuracies)\n",
        "\n",
        "# Boxplot to visualize the spread of accuracies for each order\n",
        "plt.figure(figsize=(10, 6))\n",
        "sns.boxplot(x='Order', y='Accuracy', data=df_results)\n",
        "plt.title('Boxplot of Accuracies by Markov Chain Order')\n",
        "plt.xlabel('Order of Markov Chain')\n",
        "plt.ylabel('Accuracy')\n",
        "plt.show()\n"
      ],
      "metadata": {
        "colab": {
          "base_uri": "https://localhost:8080/",
          "height": 700
        },
        "id": "h6GWEasHhvGq",
        "outputId": "470262d9-810f-4282-ca2a-e05bc3894a1e"
      },
      "id": "h6GWEasHhvGq",
      "execution_count": null,
      "outputs": [
        {
          "output_type": "stream",
          "name": "stdout",
          "text": [
            "Mean Accuracies by Order:\n",
            "Order\n",
            "1    0.497929\n",
            "2    0.500048\n",
            "3    0.502405\n",
            "4    0.585381\n",
            "5    0.537143\n",
            "Name: Accuracy, dtype: float64\n"
          ]
        },
        {
          "output_type": "display_data",
          "data": {
            "text/plain": [
              "<Figure size 1000x600 with 1 Axes>"
            ],
            "image/png": "[encoded data removed]"
          },
          "metadata": {}
        }
      ]
    },
    {
      "cell_type": "code",
      "source": [
        "import matplotlib.pyplot as plt\n",
        "import seaborn as sns\n",
        "\n",
        "# Scatter Plot\n",
        "plt.figure(figsize=(10, 6))\n",
        "sns.scatterplot(x='Order', y='Accuracy', data=df_results)\n",
        "plt.title('Scatter Plot of Accuracies by Markov Chain Order')\n",
        "plt.xlabel('Order of Markov Chain')\n",
        "plt.ylabel('Accuracy')\n",
        "plt.xticks(range(1, max_order+1))  # Set x-ticks to display each order\n",
        "plt.grid(True)  # Adding a grid for better readability of the plot\n",
        "plt.show()\n",
        "\n",
        "# Box Plot\n",
        "plt.figure(figsize=(10, 6))\n",
        "sns.boxplot(x='Order', y='Accuracy', data=df_results)\n",
        "plt.title('Box Plot of Accuracies by Markov Chain Order')\n",
        "plt.xlabel('Order of Markov Chain')\n",
        "plt.ylabel('Accuracy')\n",
        "plt.xticks(range(1, max_order+1))  # Set x-ticks to display each order\n",
        "plt.grid(True)  # Adding a grid for better readability of the plot\n",
        "plt.show()\n"
      ],
      "metadata": {
        "colab": {
          "base_uri": "https://localhost:8080/",
          "height": 1000
        },
        "id": "xHwE6f_wj_cj",
        "outputId": "798ebfa1-4a70-4d8e-eca1-de85e35098c0"
      },
      "id": "xHwE6f_wj_cj",
      "execution_count": null,
      "outputs": [
        {
          "output_type": "display_data",
          "data": {
            "text/plain": [
              "<Figure size 1000x600 with 1 Axes>"
            ],
            "image/png": "[encoded data removed]"
          },
          "metadata": {}
        },
        {
          "output_type": "display_data",
          "data": {
            "text/plain": [
              "<Figure size 1000x600 with 1 Axes>"
            ],
            "image/png": "[encoded data removed]"
          },
          "metadata": {}
        }
      ]
    },
    {
      "cell_type": "markdown",
      "source": [
        "\n",
        "### Observations:\n",
        "1. **Consistency:** The 2nd order Markov chain seems to have the most consistent accuracy with a smaller interquartile range (IQR). This suggests that for most simulations, it provides a relatively predictable level of accuracy.\n",
        "  \n",
        "2. **Highest Median Accuracy:** The 3rd order has a slightly higher median accuracy compared to the 2nd order, suggesting that on average, it might perform a bit better.\n",
        "\n",
        "3. **Spread:** The 4th order has a wider spread and a few outliers, especially one on the higher side. This might suggest that, while it can sometimes give good results, its performance is more variable and less predictable.\n",
        "\n",
        "4. **Declining Performance:** The 5th order shows a decline in the median accuracy, indicating diminishing returns as the order increases.\n",
        "\n",
        "### Implications & Recommendations:\n",
        "\n",
        "1. **Training Data Volume:** Higher-order Markov chains may require more extensive training data. Since they consider longer sequences, the chance of encountering unseen sequences in the test set increases. If your dataset isn't particularly large, this could explain the declining performance with higher orders. Therefore, gathering more data could be beneficial, especially for higher-order models.\n",
        "\n",
        "2. **Training Data Nature:** The box plot shows variability across different orders, emphasizing the importance of understanding the underlying sequences. As previously mentioned, segmenting data based on certain criteria (home/away games, specific opponents, player availability) might offer insights into which sequences are more predictable and in what context.\n",
        "\n",
        "3. **Optimal Order Selection:** Given the results, it might be worth focusing on the 2nd and 3rd orders. The 2nd order offers consistent results, and the 3rd order has a slightly better average accuracy. However, always consider the trade-offs: the 3rd order, while having a higher median, also has a slightly more extensive IQR than the 2nd order, indicating more variability in its results.\n",
        "\n",
        "4. **Model Validation:** Before settling on a specific order, consider evaluating the models further on different subsets of the data, or using techniques like cross-validation, to ensure that the selected order generalizes well.\n",
        "\n",
        "5. **Beyond Markov Chains:** Markov chains base predictions solely on historical sequences. Other factors, such as team compositions, player form, injuries, and more, are not considered. If the aim is to get the highest predictive accuracy, it might be worthwhile to consider more sophisticated models that can incorporate a wider range of influencing factors.\n",
        "\n",
        "In summary, based on the box plot, while the 2nd and 3rd orders seem to be the most promising, there's always room to explore how different training data selections can influence the results. By understanding the nature of the data and the context better, you can make more informed decisions on model selection and training data optimization."
      ],
      "metadata": {
        "id": "tJ0IJPOBnZ9K"
      },
      "id": "tJ0IJPOBnZ9K"
    },
    {
      "cell_type": "code",
      "source": [
        "def get_predictions(training_sequence, num_predictions, order, transition_matrix):\n",
        "    # Ensure training_sequence is a list\n",
        "    if isinstance(training_sequence, str):\n",
        "        training_sequence = list(training_sequence)\n",
        "\n",
        "    predictions = []\n",
        "    for _ in range(num_predictions):\n",
        "        current_sequence = training_sequence[-order:]  # Taking the last 'order' games from the training sequence\n",
        "        next_state_probs = transition_matrix.get(tuple(current_sequence), {'W': 0.5, 'L': 0.5})\n",
        "        predicted_state = pick_state('W', next_state_probs['W'], 'L', next_state_probs['L'])\n",
        "        predictions.append(predicted_state)\n",
        "        training_sequence.append(predicted_state)  # Add the predicted state to the sequence for the next prediction\n",
        "    return predictions\n",
        "\n",
        "# Forecast the next 29 games\n",
        "forecasted_results = get_predictions(seq_train, 29, 3, transition_matrix_3rd_order)\n",
        "print(forecasted_results)\n",
        "\n"
      ],
      "metadata": {
        "colab": {
          "base_uri": "https://localhost:8080/"
        },
        "id": "MWIdvav2k35G",
        "outputId": "ea1c6174-f617-489f-f8d3-cee0f4548ab6"
      },
      "id": "MWIdvav2k35G",
      "execution_count": null,
      "outputs": [
        {
          "output_type": "stream",
          "name": "stdout",
          "text": [
            "['W', 'W', 'L', 'W', 'W', 'L', 'L', 'W', 'L', 'W', 'W', 'L', 'W', 'W', 'L', 'L', 'L', 'L', 'L', 'W', 'W', 'W', 'L', 'W', 'W', 'L', 'W', 'W', 'W']\n"
          ]
        }
      ]
    },
    {
      "cell_type": "code",
      "source": [],
      "metadata": {
        "id": "LrO0K4WfnVSb"
      },
      "id": "LrO0K4WfnVSb",
      "execution_count": null,
      "outputs": []
    }
  ],
  "metadata": {
    "kernelspec": {
      "display_name": "Python 3 (ipykernel)",
      "language": "python",
      "name": "python3"
    },
    "language_info": {
      "codemirror_mode": {
        "name": "ipython",
        "version": 3
      },
      "file_extension": ".py",
      "mimetype": "text/x-python",
      "name": "python",
      "nbconvert_exporter": "python",
      "pygments_lexer": "ipython3",
      "version": "3.12.0"
    },
    "colab": {
      "provenance": []
    }
  },
  "nbformat": 4,
  "nbformat_minor": 5
}